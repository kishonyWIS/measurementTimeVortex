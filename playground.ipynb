{
 "cells": [
  {
   "cell_type": "code",
   "id": "initial_id",
   "metadata": {
    "collapsed": true,
    "ExecuteTime": {
     "end_time": "2024-08-23T10:43:44.645634Z",
     "start_time": "2024-08-23T10:43:42.811010Z"
    }
   },
   "source": [
    "from color_code import *\n",
    "from geometry import *\n",
    "from noise import get_noise_model\n",
    "%load_ext autoreload\n",
    "%autoreload 2"
   ],
   "outputs": [],
   "execution_count": 1
  },
  {
   "metadata": {
    "ExecuteTime": {
     "end_time": "2024-08-23T11:32:37.098824Z",
     "start_time": "2024-08-23T11:31:36.392232Z"
    }
   },
   "cell_type": "code",
   "source": [
    "boundary_conditions = ('periodic', 'open')\n",
    "geometry = SymmetricCylinder\n",
    "logical_op_directions = ('x')\n",
    "detectors = ('Z',)\n",
    "num_vortexes = (2,0)\n",
    "dx, dy = 15, 15\n",
    "reps_without_noise = 4\n",
    "noise_type = 'DEPOLARIZE1'\n",
    "\n",
    "code = FloquetCode(dx, dy, boundary_conditions=boundary_conditions,\n",
    "                       num_vortexes=num_vortexes, geometry=geometry, detectors=detectors)\n",
    "\n",
    "circ, _, _ = code.get_circuit(\n",
    "            reps=1+2*reps_without_noise, reps_without_noise=reps_without_noise,\n",
    "            noise_model = get_noise_model(noise_type, 0.1),\n",
    "            logical_operator_pauli_type='Z',\n",
    "            logical_op_directions=logical_op_directions,\n",
    "            detector_indexes=None, detector_args=None)\n",
    "\n",
    "print(len(circ.shortest_graphlike_error()))"
   ],
   "id": "a108eb02ee6397e",
   "outputs": [
    {
     "name": "stdout",
     "output_type": "stream",
     "text": [
      "15\n"
     ]
    }
   ],
   "execution_count": 27
  },
  {
   "metadata": {
    "jupyter": {
     "is_executing": true
    },
    "ExecuteTime": {
     "start_time": "2024-08-23T11:33:13.844727Z"
    }
   },
   "cell_type": "code",
   "source": [
    "from itertools import product\n",
    "\n",
    "reps_without_noise = 2\n",
    "noise_type = 'DEPOLARIZE2'\n",
    "\n",
    "vortex_list = [(i,j) for i,j in product(range(4),range(4))]\n",
    "\n",
    "for vor in vortex_list:\n",
    "    code = FloquetCode(dx, dy, boundary_conditions=boundary_conditions,\n",
    "                       num_vortexes=vor, geometry=geometry, detectors=detectors)\n",
    "    \n",
    "\n",
    "    circ, _, _ = code.get_circuit(\n",
    "            reps=1+2*reps_without_noise, reps_without_noise=reps_without_noise,\n",
    "            noise_model = get_noise_model(noise_type, 0.1),\n",
    "            logical_operator_pauli_type='Z',\n",
    "            logical_op_directions=logical_op_directions,\n",
    "            detector_indexes=None, detector_args=None, draw=False)\n",
    "    graph_dist = len(circ.shortest_graphlike_error())\n",
    "    print(f\"vortex {vor}: {graph_dist=}\")"
   ],
   "id": "2efc9ffb025b332f",
   "outputs": [],
   "execution_count": null
  },
  {
   "metadata": {
    "ExecuteTime": {
     "end_time": "2024-08-22T12:43:12.971095Z",
     "start_time": "2024-08-22T12:43:12.956273Z"
    }
   },
   "cell_type": "code",
   "source": "circ.diagram(\"matchgraph-3d\")",
   "id": "856621998caa40ef",
   "outputs": [
    {
     "data": {
      "text/plain": [
       "{\"accessors\":[{\"bufferView\":0,\"byteOffset\":0,\"componentType\":5126,\"count\":17,\"max\":[0,0.400000005960464,0.400000005960464],\"min\":[0,-0.400000005960464,-0.400000005960464],\"name\":\"circle_loop\",\"type\":\"VEC3\"},{\"bufferView\":1,\"byteOffset\":0,\"componentType\":5126,\"count\":200,\"max\":[22.808687210083,21.7014236450195,6],\"min\":[-7.80868768692017,-9.70142459869385,-1.36435747146606],\"name\":\"buf_scattered_lines\",\"type\":\"VEC3\"},{\"bufferView\":2,\"byteOffset\":0,\"componentType\":5126,\"count\":30,\"max\":[15,3,6],\"min\":[0,0,3],\"name\":\"buf_red_scattered_lines\",\"type\":\"VEC3\"}],\"asset\":{\"version\":\"2.0\"},\"bufferViews\":[{\"buffer\":0,\"byteLength\":204,\"byteOffset\":0,\"name\":\"circle_loop\",\"target\":34962},{\"buffer\":1,\"byteLength\":2400,\"byteOffset\":0,\"name\":\"buf_scattered_lines\",\"target\":34962},{\"buffer\":2,\"byteLength\":360,\"byteOffset\":0,\"name\":\"buf_red_scattered_lines\",\"target\":34962}],\"buffers\":[{\"byteLength\":204,\"name\":\"circle_loop\",\"uri\":\"data:application/octet-stream;base64,AAAAAM3MzD4AAAAAAAAAAOU1vT5Fvxw+AAAAAMPQkD7D0JA+AAAAAES/HD7lNb0+AAAAAPIwlrLNzMw+AAAAAEe/HL7lNb0+AAAAAMPQkL7D0JA+AAAAAOc1vb5Avxw+AAAAAM3MzL7yMBazAAAAAOU1vb5Evxy+AAAAAMHQkL7E0JC+AAAAADy/HL7nNb2+AAAAAPLkozHNzMy+AAAAAEm/HD7kNb2+AAAAAMbQkD6/0JC+AAAAAOY1vT5Evxy+AAAAAM3MzD4AAAAA\"},{\"byteLength\":2400,\"name\":\"buf_scattered_lines\",\"uri\":\"data:application/octet-stream;base64,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\"},{\"byteLength\":360,\"name\":\"buf_red_scattered_lines\",\"uri\":\"data:application/octet-stream;base64,AAAAAAAAAAAAAEBAAAAAAAAAQEAAAEBAAAAAAAAAAAAAAMBAAAAAAAAAQEAAAMBAAAAAAAAAAAAAAMBAAABwQQAAQEAAAEBAAAAAAAAAQEAAAEBAAABAQAAAAAAAAMBAAABAQAAAAAAAAMBAAABAQAAAQEAAAMBAAABAQAAAQEAAAEBAAADAQAAAAAAAAEBAAADAQAAAAAAAAEBAAADAQAAAQEAAAMBAAADAQAAAQEAAAEBAAAAQQQAAAAAAAEBAAADAQAAAQEAAAMBAAAAQQQAAAAAAAMBAAAAQQQAAAAAAAEBAAAAQQQAAQEAAAMBAAAAQQQAAQEAAAMBAAABAQQAAAAAAAMBAAABAQQAAAAAAAEBAAABAQQAAQEAAAEBAAABAQQAAQEAAAEBAAABwQQAAAAAAAMBAAABwQQAAAAAAAEBAAABwQQAAQEAAAEBAAABwQQAAAAAAAMBAAABwQQAAQEAAAMBA\"}],\"materials\":[{\"doubleSided\":true,\"name\":\"black\",\"pbrMetallicRoughness\":{\"baseColorFactor\":[0,0,0,1],\"metallicFactor\":1,\"roughnessFactor\":1}},{\"doubleSided\":true,\"name\":\"black\",\"pbrMetallicRoughness\":{\"baseColorFactor\":[0,0,0,1],\"metallicFactor\":1,\"roughnessFactor\":1}},{\"doubleSided\":true,\"name\":\"red\",\"pbrMetallicRoughness\":{\"baseColorFactor\":[1,0,0,1],\"metallicFactor\":1,\"roughnessFactor\":1}}],\"meshes\":[{\"primitives\":[{\"attributes\":{\"POSITION\":0},\"material\":0,\"mode\":6}]},{\"primitives\":[{\"attributes\":{\"POSITION\":1},\"material\":1,\"mode\":1}]},{\"primitives\":[{\"attributes\":{\"POSITION\":2},\"material\":2,\"mode\":1}]}],\"nodes\":[{\"mesh\":0,\"translation\":[0,0,0]},{\"mesh\":0,\"translation\":[0,0,3]},{\"mesh\":0,\"translation\":[0,0,6]},{\"mesh\":0,\"translation\":[0,0,9]},{\"mesh\":0,\"translation\":[0,3,0]},{\"mesh\":0,\"translation\":[0,3,3]},{\"mesh\":0,\"translation\":[0,3,6]},{\"mesh\":0,\"translation\":[0,3,9]},{\"mesh\":0,\"translation\":[0,6,0]},{\"mesh\":0,\"translation\":[0,6,3]},{\"mesh\":0,\"translation\":[0,6,6]},{\"mesh\":0,\"translation\":[0,6,9]},{\"mesh\":0,\"translation\":[0,9,0]},{\"mesh\":0,\"translation\":[0,9,3]},{\"mesh\":0,\"translation\":[0,9,6]},{\"mesh\":0,\"translation\":[0,9,9]},{\"mesh\":0,\"translation\":[0,12,0]},{\"mesh\":0,\"translation\":[0,12,3]},{\"mesh\":0,\"translation\":[0,12,6]},{\"mesh\":0,\"translation\":[0,12,9]},{\"mesh\":0,\"translation\":[3,0,0]},{\"mesh\":0,\"translation\":[3,0,3]},{\"mesh\":0,\"translation\":[3,0,6]},{\"mesh\":0,\"translation\":[3,0,9]},{\"mesh\":0,\"translation\":[3,0,12]},{\"mesh\":0,\"translation\":[3,3,0]},{\"mesh\":0,\"translation\":[3,3,3]},{\"mesh\":0,\"translation\":[3,3,6]},{\"mesh\":0,\"translation\":[3,3,9]},{\"mesh\":0,\"translation\":[3,6,0]},{\"mesh\":0,\"translation\":[3,6,3]},{\"mesh\":0,\"translation\":[3,6,6]},{\"mesh\":0,\"translation\":[3,6,9]},{\"mesh\":0,\"translation\":[3,9,0]},{\"mesh\":0,\"translation\":[3,9,3]},{\"mesh\":0,\"translation\":[3,9,6]},{\"mesh\":0,\"translation\":[3,9,9]},{\"mesh\":0,\"translation\":[3,9,12]},{\"mesh\":0,\"translation\":[3,12,0]},{\"mesh\":0,\"translation\":[3,12,3]},{\"mesh\":0,\"translation\":[3,12,6]},{\"mesh\":0,\"translation\":[3,12,9]},{\"mesh\":0,\"translation\":[6,0,0]},{\"mesh\":0,\"translation\":[6,0,3]},{\"mesh\":0,\"translation\":[6,0,6]},{\"mesh\":0,\"translation\":[6,0,9]},{\"mesh\":0,\"translation\":[6,3,0]},{\"mesh\":0,\"translation\":[6,3,3]},{\"mesh\":0,\"translation\":[6,3,6]},{\"mesh\":0,\"translation\":[6,3,9]},{\"mesh\":0,\"translation\":[6,6,0]},{\"mesh\":0,\"translation\":[6,6,3]},{\"mesh\":0,\"translation\":[6,6,6]},{\"mesh\":0,\"translation\":[6,6,9]},{\"mesh\":0,\"translation\":[6,9,0]},{\"mesh\":0,\"translation\":[6,9,3]},{\"mesh\":0,\"translation\":[6,9,6]},{\"mesh\":0,\"translation\":[6,9,9]},{\"mesh\":0,\"translation\":[6,12,0]},{\"mesh\":0,\"translation\":[6,12,3]},{\"mesh\":0,\"translation\":[6,12,6]},{\"mesh\":0,\"translation\":[6,12,9]},{\"mesh\":0,\"translation\":[9,0,0]},{\"mesh\":0,\"translation\":[9,0,3]},{\"mesh\":0,\"translation\":[9,0,6]},{\"mesh\":0,\"translation\":[9,0,9]},{\"mesh\":0,\"translation\":[9,3,0]},{\"mesh\":0,\"translation\":[9,3,3]},{\"mesh\":0,\"translation\":[9,3,6]},{\"mesh\":0,\"translation\":[9,3,9]},{\"mesh\":0,\"translation\":[9,3,12]},{\"mesh\":0,\"translation\":[9,6,0]},{\"mesh\":0,\"translation\":[9,6,3]},{\"mesh\":0,\"translation\":[9,6,6]},{\"mesh\":0,\"translation\":[9,6,9]},{\"mesh\":0,\"translation\":[9,9,0]},{\"mesh\":0,\"translation\":[9,9,3]},{\"mesh\":0,\"translation\":[9,9,6]},{\"mesh\":0,\"translation\":[9,9,9]},{\"mesh\":0,\"translation\":[9,12,0]},{\"mesh\":0,\"translation\":[9,12,3]},{\"mesh\":0,\"translation\":[9,12,6]},{\"mesh\":0,\"translation\":[9,12,9]},{\"mesh\":0,\"translation\":[9,12,12]},{\"mesh\":0,\"translation\":[12,0,0]},{\"mesh\":0,\"translation\":[12,0,3]},{\"mesh\":0,\"translation\":[12,0,6]},{\"mesh\":0,\"translation\":[12,0,9]},{\"mesh\":0,\"translation\":[12,3,0]},{\"mesh\":0,\"translation\":[12,3,3]},{\"mesh\":0,\"translation\":[12,3,6]},{\"mesh\":0,\"translation\":[12,3,9]},{\"mesh\":0,\"translation\":[12,6,0]},{\"mesh\":0,\"translation\":[12,6,3]},{\"mesh\":0,\"translation\":[12,6,6]},{\"mesh\":0,\"translation\":[12,6,9]},{\"mesh\":0,\"translation\":[12,9,0]},{\"mesh\":0,\"translation\":[12,9,3]},{\"mesh\":0,\"translation\":[12,9,6]},{\"mesh\":0,\"translation\":[12,9,9]},{\"mesh\":0,\"translation\":[12,12,0]},{\"mesh\":0,\"translation\":[12,12,3]},{\"mesh\":0,\"translation\":[12,12,6]},{\"mesh\":0,\"translation\":[12,12,9]},{\"mesh\":0,\"translation\":[15,0,0]},{\"mesh\":0,\"translation\":[15,0,3]},{\"mesh\":0,\"translation\":[15,0,6]},{\"mesh\":0,\"translation\":[15,0,9]},{\"mesh\":0,\"translation\":[15,3,0]},{\"mesh\":0,\"translation\":[15,3,3]},{\"mesh\":0,\"translation\":[15,3,6]},{\"mesh\":0,\"translation\":[15,3,9]},{\"mesh\":0,\"translation\":[15,6,0]},{\"mesh\":0,\"translation\":[15,6,3]},{\"mesh\":0,\"translation\":[15,6,6]},{\"mesh\":0,\"translation\":[15,6,9]},{\"mesh\":0,\"translation\":[15,6,12]},{\"mesh\":0,\"translation\":[15,9,0]},{\"mesh\":0,\"translation\":[15,9,3]},{\"mesh\":0,\"translation\":[15,9,6]},{\"mesh\":0,\"translation\":[15,9,9]},{\"mesh\":0,\"translation\":[15,12,0]},{\"mesh\":0,\"translation\":[15,12,3]},{\"mesh\":0,\"translation\":[15,12,6]},{\"mesh\":0,\"translation\":[15,12,9]},{\"mesh\":1,\"translation\":[0,0,0]},{\"mesh\":2,\"translation\":[0,0,0]}],\"scene\":0,\"scenes\":[{\"nodes\":[0,1,2,3,4,5,6,7,8,9,10,11,12,13,14,15,16,17,18,19,20,21,22,23,24,25,26,27,28,29,30,31,32,33,34,35,36,37,38,39,40,41,42,43,44,45,46,47,48,49,50,51,52,53,54,55,56,57,58,59,60,61,62,63,64,65,66,67,68,69,70,71,72,73,74,75,76,77,78,79,80,81,82,83,84,85,86,87,88,89,90,91,92,93,94,95,96,97,98,99,100,101,102,103,104,105,106,107,108,109,110,111,112,113,114,115,116,117,118,119,120,121,122,123,124,125,126]}]}"
      ],
      "text/html": [
       "<iframe style=\"width: 100%; height: 300px; overflow: hidden; resize: both; border: 1px dashed gray;\" frameBorder=\"0\" srcdoc=\"\n",
       "&lt;!DOCTYPE html&gt;\n",
       "&lt;html&gt;\n",
       "&lt;head&gt;\n",
       "  &lt;meta charset=&quot;UTF-8&quot; /&gt;\n",
       "  &lt;script type=&quot;importmap&quot;&gt;\n",
       "    {\n",
       "      &quot;imports&quot;: {\n",
       "        &quot;three&quot;: &quot;https://unpkg.com/three@0.138.0/build/three.module.js&quot;,\n",
       "        &quot;three-orbitcontrols&quot;: &quot;https://unpkg.com/three@0.138.0/examples/jsm/controls/OrbitControls.js&quot;,\n",
       "        &quot;three-gltf-loader&quot;: &quot;https://unpkg.com/three@0.138.0/examples/jsm/loaders/GLTFLoader.js&quot;\n",
       "      }\n",
       "    }\n",
       "  &lt;/script&gt;\n",
       "&lt;/head&gt;\n",
       "&lt;body&gt;\n",
       "  &lt;a download=&quot;model.gltf&quot; id=&quot;stim-3d-viewer-download-link&quot; href=&quot;data:text/plain;base64,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&quot;&gt;Download 3D Model as .GLTF File&lt;/a&gt;\n",
       "  &lt;br&gt;Mouse Wheel = Zoom. Left Drag = Orbit. Right Drag = Strafe.\n",
       "  &lt;div id=&quot;stim-3d-viewer-scene-container&quot; style=&quot;width: calc(100vw - 32px); height: calc(100vh - 64px);&quot;&gt;JavaScript Blocked?&lt;/div&gt;\n",
       "\n",
       "  &lt;script type=&quot;module&quot;&gt;\n",
       "    let container = document.getElementById(&quot;stim-3d-viewer-scene-container&quot;);\n",
       "    let downloadLink = document.getElementById(&quot;stim-3d-viewer-download-link&quot;);\n",
       "    container.textContent = &quot;Loading viewer...&quot;;\n",
       "\n",
       "    /// BEGIN TERRIBLE HACK.\n",
       "    /// Change the ID to avoid cross-cell interactions.\n",
       "    /// This is a workaround for https://github.com/jupyter/notebook/issues/6598\n",
       "    container.id = undefined;\n",
       "    downloadLink.id = undefined;\n",
       "\n",
       "    import {Box3, Scene, Color, PerspectiveCamera, WebGLRenderer, DirectionalLight, Vector3} from &quot;three&quot;;\n",
       "    import {OrbitControls} from &quot;three-orbitcontrols&quot;;\n",
       "    import {GLTFLoader} from &quot;three-gltf-loader&quot;;\n",
       "\n",
       "    try {\n",
       "      container.textContent = &quot;Loading model...&quot;;\n",
       "      let modelDataUri = downloadLink.href;\n",
       "      let gltf = await new GLTFLoader().loadAsync(modelDataUri);\n",
       "      container.textContent = &quot;Loading scene...&quot;;\n",
       "\n",
       "      // Create the scene, adding lighting for the loaded objects.\n",
       "      let scene = new Scene();\n",
       "      scene.background = new Color(&quot;white&quot;);\n",
       "      let mainLight = new DirectionalLight(0xffffff, 5);\n",
       "      mainLight.position.set(1, 1, 0);\n",
       "      let backLight = new DirectionalLight(0xffffff, 4);\n",
       "      backLight.position.set(-1, -1, 0);\n",
       "      scene.add(mainLight, backLight);\n",
       "      scene.add(gltf.scene);\n",
       "\n",
       "      // Point the camera at the center, far enough back to see everything.\n",
       "      let camera = new PerspectiveCamera(35, container.clientWidth / container.clientHeight, 0.1, 100000);\n",
       "      let controls = new OrbitControls(camera, container);\n",
       "      let bounds = new Box3().setFromObject(scene);\n",
       "      let mid = new Vector3(\n",
       "          (bounds.min.x + bounds.max.x) * 0.5,\n",
       "          (bounds.min.y + bounds.max.y) * 0.5,\n",
       "          (bounds.min.z + bounds.max.z) * 0.5,\n",
       "      );\n",
       "      let boxPoints = [];\n",
       "      for (let dx of [0, 0.5, 1]) {\n",
       "          for (let dy of [0, 0.5, 1]) {\n",
       "              for (let dz of [0, 0.5, 1]) {\n",
       "                  boxPoints.push(new Vector3(\n",
       "                      bounds.min.x + (bounds.max.x - bounds.min.x) * dx,\n",
       "                      bounds.min.y + (bounds.max.y - bounds.min.y) * dy,\n",
       "                      bounds.min.z + (bounds.max.z - bounds.min.z) * dz,\n",
       "                  ));\n",
       "              }\n",
       "          }\n",
       "      }\n",
       "      let isInView = p =&gt; {\n",
       "          p = new Vector3(p.x, p.y, p.z);\n",
       "          p.project(camera);\n",
       "          return Math.abs(p.x) &lt; 1 &amp;&amp; Math.abs(p.y) &lt; 1 &amp;&amp; p.z &gt;= 0 &amp;&amp; p.z &lt; 1;\n",
       "      };\n",
       "      let unit = new Vector3(0.3, 0.4, -1.8);\n",
       "      unit.normalize();\n",
       "      let setCameraDistance = d =&gt; {\n",
       "          controls.target.copy(mid);\n",
       "          camera.position.copy(mid);\n",
       "          camera.position.addScaledVector(unit, d);\n",
       "          controls.update();\n",
       "          return boxPoints.every(isInView);\n",
       "      };\n",
       "\n",
       "      let maxDistance = 1;\n",
       "      for (let k = 0; k &lt; 20; k++) {\n",
       "          if (setCameraDistance(maxDistance)) {\n",
       "              break;\n",
       "          }\n",
       "          maxDistance *= 2;\n",
       "      }\n",
       "      let minDistance = maxDistance;\n",
       "      for (let k = 0; k &lt; 20; k++) {\n",
       "          minDistance /= 2;\n",
       "          if (!setCameraDistance(minDistance)) {\n",
       "              break;\n",
       "          }\n",
       "      }\n",
       "      for (let k = 0; k &lt; 20; k++) {\n",
       "          let mid = (minDistance + maxDistance) / 2;\n",
       "          if (setCameraDistance(mid)) {\n",
       "              maxDistance = mid;\n",
       "          } else {\n",
       "              minDistance = mid;\n",
       "          }\n",
       "      }\n",
       "      setCameraDistance(maxDistance);\n",
       "\n",
       "      // Set up rendering.\n",
       "      let renderer = new WebGLRenderer({ antialias: true });\n",
       "      container.textContent = &quot;&quot;;\n",
       "      renderer.setSize(container.clientWidth, container.clientHeight);\n",
       "      renderer.setPixelRatio(window.devicePixelRatio);\n",
       "      renderer.physicallyCorrectLights = true;\n",
       "      container.appendChild(renderer.domElement);\n",
       "\n",
       "      // Render whenever any important changes have occurred.\n",
       "      requestAnimationFrame(() =&gt; renderer.render(scene, camera));\n",
       "      new ResizeObserver(() =&gt; {\n",
       "        let w = container.clientWidth;\n",
       "        let h = container.clientHeight;\n",
       "        camera.aspect = w / h;\n",
       "        camera.updateProjectionMatrix();\n",
       "        renderer.setSize(w, h);\n",
       "        renderer.render(scene, camera);\n",
       "      }).observe(container);\n",
       "      controls.addEventListener(&quot;change&quot;, () =&gt; {\n",
       "          renderer.render(scene, camera);\n",
       "      })\n",
       "    } catch (ex) {\n",
       "      container.textContent = &quot;Failed to show model. &quot; + ex;\n",
       "      console.error(ex);\n",
       "    }\n",
       "  &lt;/script&gt;\n",
       "&lt;/body&gt;\n",
       "\"></iframe>"
      ]
     },
     "execution_count": 4,
     "metadata": {},
     "output_type": "execute_result"
    }
   ],
   "execution_count": 4
  },
  {
   "metadata": {},
   "cell_type": "code",
   "outputs": [],
   "execution_count": null,
   "source": "",
   "id": "cf55f4ec0f1123b3"
  }
 ],
 "metadata": {
  "kernelspec": {
   "display_name": "Python 3",
   "language": "python",
   "name": "python3"
  },
  "language_info": {
   "codemirror_mode": {
    "name": "ipython",
    "version": 2
   },
   "file_extension": ".py",
   "mimetype": "text/x-python",
   "name": "python",
   "nbconvert_exporter": "python",
   "pygments_lexer": "ipython2",
   "version": "2.7.6"
  }
 },
 "nbformat": 4,
 "nbformat_minor": 5
}
